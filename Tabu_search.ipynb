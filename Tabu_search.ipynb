{
 "cells": [
  {
   "cell_type": "code",
   "execution_count": 28,
   "metadata": {},
   "outputs": [],
   "source": [
    "import time\n",
    "import numpy as np\n",
    "import pandas as pd"
   ]
  },
  {
   "cell_type": "code",
   "execution_count": 26,
   "metadata": {},
   "outputs": [
    {
     "ename": "NameError",
     "evalue": "name 'construct_greey_solution' is not defined",
     "output_type": "error",
     "traceback": [
      "\u001b[0;31m---------------------------------------------------------------------------\u001b[0m",
      "\u001b[0;31mNameError\u001b[0m                                 Traceback (most recent call last)",
      "\u001b[0;32m<ipython-input-26-86f2416b62b7>\u001b[0m in \u001b[0;36m<module>\u001b[0;34m\u001b[0m\n\u001b[1;32m     12\u001b[0m \u001b[0;32mwhile\u001b[0m \u001b[0mmax_iteration\u001b[0m \u001b[0;34m>\u001b[0m \u001b[0;36m0\u001b[0m\u001b[0;34m:\u001b[0m\u001b[0;34m\u001b[0m\u001b[0;34m\u001b[0m\u001b[0m\n\u001b[1;32m     13\u001b[0m     \u001b[0mmax_iteration\u001b[0m \u001b[0;34m-=\u001b[0m \u001b[0;36m1\u001b[0m\u001b[0;34m\u001b[0m\u001b[0;34m\u001b[0m\u001b[0m\n\u001b[0;32m---> 14\u001b[0;31m     \u001b[0mnew_sol\u001b[0m\u001b[0;34m,\u001b[0m \u001b[0mnew_cost\u001b[0m \u001b[0;34m=\u001b[0m \u001b[0mconstruct_greey_solution\u001b[0m\u001b[0;34m(\u001b[0m\u001b[0minput_tsp_file\u001b[0m\u001b[0;34m,\u001b[0m \u001b[0mgreedy_factor\u001b[0m\u001b[0;34m)\u001b[0m\u001b[0;34m\u001b[0m\u001b[0;34m\u001b[0m\u001b[0m\n\u001b[0m\u001b[1;32m     15\u001b[0m     \u001b[0mnew_sol\u001b[0m\u001b[0;34m,\u001b[0m \u001b[0mnew_cost\u001b[0m \u001b[0;34m=\u001b[0m \u001b[0mlocal_search\u001b[0m\u001b[0;34m(\u001b[0m\u001b[0mnew_sol\u001b[0m\u001b[0;34m,\u001b[0m \u001b[0mnew_cost\u001b[0m\u001b[0;34m,\u001b[0m \u001b[0mearly_stop\u001b[0m\u001b[0;34m)\u001b[0m\u001b[0;34m\u001b[0m\u001b[0;34m\u001b[0m\u001b[0m\n\u001b[1;32m     16\u001b[0m \u001b[0;34m\u001b[0m\u001b[0m\n",
      "\u001b[0;31mNameError\u001b[0m: name 'construct_greey_solution' is not defined"
     ]
    }
   ],
   "source": [
    "# mian function\n",
    "input_tsp_file = berlin52\n",
    "max_iteration = 100\n",
    "early_stop = 50\n",
    "greedy_factor = 0.3\n",
    "start = time.time()\n",
    "\n",
    "best_cost = float('inf')\n",
    "\n",
    "while max_iteration > 0:\n",
    "    max_iteration -= 1\n",
    "    new_sol, new_cost = construct_greey_solution(input_tsp_file, greedy_factor)\n",
    "    new_sol, new_cost = local_search(new_sol, new_cost, early_stop)\n",
    "    \n",
    "    if new_cost < best_cost:\n",
    "        best_cost = new_cost\n",
    "        best_sol = new_sol\n",
    "        print('New solution found:\\nCost:%.2f' %best_cost)\n",
    "        \n",
    "stop = time.time()\n",
    "print('Best cost: %.2f, Elapsed: %.2f' %(best_cost, stop-start))\n",
    "print('Best solution: %.2f' % best_sol)"
   ]
  },
  {
   "cell_type": "code",
   "execution_count": 69,
   "metadata": {},
   "outputs": [
    {
     "data": {
      "text/html": [
       "<div>\n",
       "<style scoped>\n",
       "    .dataframe tbody tr th:only-of-type {\n",
       "        vertical-align: middle;\n",
       "    }\n",
       "\n",
       "    .dataframe tbody tr th {\n",
       "        vertical-align: top;\n",
       "    }\n",
       "\n",
       "    .dataframe thead th {\n",
       "        text-align: right;\n",
       "    }\n",
       "</style>\n",
       "<table border=\"1\" class=\"dataframe\">\n",
       "  <thead>\n",
       "    <tr style=\"text-align: right;\">\n",
       "      <th></th>\n",
       "      <th>x</th>\n",
       "      <th>y</th>\n",
       "    </tr>\n",
       "  </thead>\n",
       "  <tbody>\n",
       "    <tr>\n",
       "      <th>0</th>\n",
       "      <td>565.0</td>\n",
       "      <td>575.0</td>\n",
       "    </tr>\n",
       "    <tr>\n",
       "      <th>1</th>\n",
       "      <td>25.0</td>\n",
       "      <td>185.0</td>\n",
       "    </tr>\n",
       "    <tr>\n",
       "      <th>2</th>\n",
       "      <td>345.0</td>\n",
       "      <td>750.0</td>\n",
       "    </tr>\n",
       "    <tr>\n",
       "      <th>3</th>\n",
       "      <td>945.0</td>\n",
       "      <td>685.0</td>\n",
       "    </tr>\n",
       "    <tr>\n",
       "      <th>4</th>\n",
       "      <td>845.0</td>\n",
       "      <td>655.0</td>\n",
       "    </tr>\n",
       "    <tr>\n",
       "      <th>5</th>\n",
       "      <td>880.0</td>\n",
       "      <td>660.0</td>\n",
       "    </tr>\n",
       "    <tr>\n",
       "      <th>6</th>\n",
       "      <td>25.0</td>\n",
       "      <td>230.0</td>\n",
       "    </tr>\n",
       "    <tr>\n",
       "      <th>7</th>\n",
       "      <td>525.0</td>\n",
       "      <td>1000.0</td>\n",
       "    </tr>\n",
       "    <tr>\n",
       "      <th>8</th>\n",
       "      <td>580.0</td>\n",
       "      <td>1175.0</td>\n",
       "    </tr>\n",
       "    <tr>\n",
       "      <th>9</th>\n",
       "      <td>650.0</td>\n",
       "      <td>1130.0</td>\n",
       "    </tr>\n",
       "  </tbody>\n",
       "</table>\n",
       "</div>"
      ],
      "text/plain": [
       "       x       y\n",
       "0  565.0   575.0\n",
       "1   25.0   185.0\n",
       "2  345.0   750.0\n",
       "3  945.0   685.0\n",
       "4  845.0   655.0\n",
       "5  880.0   660.0\n",
       "6   25.0   230.0\n",
       "7  525.0  1000.0\n",
       "8  580.0  1175.0\n",
       "9  650.0  1130.0"
      ]
     },
     "execution_count": 69,
     "metadata": {},
     "output_type": "execute_result"
    }
   ],
   "source": [
    "col = ['x', 'y']\n",
    "f = pd.read_csv('berlin52-tsp.txt', sep='\\s+')\n",
    "f = pd.DataFrame(f)\n",
    "f.head(10)"
   ]
  },
  {
   "cell_type": "code",
   "execution_count": 47,
   "metadata": {},
   "outputs": [],
   "source": [
    "p1 = 0\n",
    "exclude = set([p1])"
   ]
  },
  {
   "cell_type": "code",
   "execution_count": 48,
   "metadata": {},
   "outputs": [
    {
     "data": {
      "text/plain": [
       "{0}"
      ]
     },
     "execution_count": 48,
     "metadata": {},
     "output_type": "execute_result"
    }
   ],
   "source": [
    "exclude"
   ]
  },
  {
   "cell_type": "code",
   "execution_count": 50,
   "metadata": {},
   "outputs": [
    {
     "data": {
      "text/plain": [
       "56"
      ]
     },
     "execution_count": 50,
     "metadata": {},
     "output_type": "execute_result"
    }
   ],
   "source": [
    "l = [123,35,7,24,23,56]\n",
    "l[-1]"
   ]
  },
  {
   "cell_type": "code",
   "execution_count": 72,
   "metadata": {},
   "outputs": [
    {
     "data": {
      "text/plain": [
       "[[565.0, 575.0],\n",
       " [25.0, 185.0],\n",
       " [345.0, 750.0],\n",
       " [945.0, 685.0],\n",
       " [845.0, 655.0],\n",
       " [880.0, 660.0],\n",
       " [25.0, 230.0],\n",
       " [525.0, 1000.0],\n",
       " [580.0, 1175.0],\n",
       " [650.0, 1130.0],\n",
       " [1605.0, 620.0],\n",
       " [1220.0, 580.0],\n",
       " [1465.0, 200.0],\n",
       " [1530.0, 5.0],\n",
       " [845.0, 680.0],\n",
       " [725.0, 370.0],\n",
       " [145.0, 665.0],\n",
       " [415.0, 635.0],\n",
       " [510.0, 875.0],\n",
       " [560.0, 365.0],\n",
       " [300.0, 465.0],\n",
       " [520.0, 585.0],\n",
       " [480.0, 415.0],\n",
       " [835.0, 625.0],\n",
       " [975.0, 580.0],\n",
       " [1215.0, 245.0],\n",
       " [1320.0, 315.0],\n",
       " [1250.0, 400.0],\n",
       " [660.0, 180.0],\n",
       " [410.0, 250.0],\n",
       " [420.0, 555.0],\n",
       " [575.0, 665.0],\n",
       " [1150.0, 1160.0],\n",
       " [700.0, 580.0],\n",
       " [685.0, 595.0],\n",
       " [685.0, 610.0],\n",
       " [770.0, 610.0],\n",
       " [795.0, 645.0],\n",
       " [720.0, 635.0],\n",
       " [760.0, 650.0],\n",
       " [475.0, 960.0],\n",
       " [95.0, 260.0],\n",
       " [875.0, 920.0],\n",
       " [700.0, 500.0],\n",
       " [555.0, 815.0],\n",
       " [830.0, 485.0],\n",
       " [1170.0, 65.0],\n",
       " [830.0, 610.0],\n",
       " [605.0, 625.0],\n",
       " [595.0, 360.0],\n",
       " [1340.0, 725.0],\n",
       " [1740.0, 245.0]]"
      ]
     },
     "execution_count": 72,
     "metadata": {},
     "output_type": "execute_result"
    }
   ],
   "source": [
    "f.to_numpy().tolist()"
   ]
  },
  {
   "cell_type": "code",
   "execution_count": 75,
   "metadata": {},
   "outputs": [],
   "source": [
    "import csv\n",
    "\n",
    "alpha_list = [0.1,0.2,0.3,0.4]\n",
    "cost_list = [100,50, 30, 40]\n",
    "\n",
    "with open('GRASP_result_test.csv', 'w', newline='') as csvfile:\n",
    "    spamwriter = csv.writer(csvfile, delimiter=',')\n",
    "    spamwriter.writerow(['alpha', 'cost'])\n",
    "    for alpha, cost in zip(alpha_list, cost_list):\n",
    "        spamwriter.writerow([alpha, cost])\n",
    "        "
   ]
  },
  {
   "cell_type": "code",
   "execution_count": null,
   "metadata": {},
   "outputs": [],
   "source": [
    "\n",
    "    "
   ]
  }
 ],
 "metadata": {
  "kernelspec": {
   "display_name": "Python 3",
   "language": "python",
   "name": "python3"
  },
  "language_info": {
   "codemirror_mode": {
    "name": "ipython",
    "version": 3
   },
   "file_extension": ".py",
   "mimetype": "text/x-python",
   "name": "python",
   "nbconvert_exporter": "python",
   "pygments_lexer": "ipython3",
   "version": "3.8.3"
  }
 },
 "nbformat": 4,
 "nbformat_minor": 4
}
